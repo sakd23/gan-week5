{
 "cells": [
  {
   "cell_type": "markdown",
   "id": "ab2396b1",
   "metadata": {},
   "source": [
    "## References\n",
    "\n",
    "1. Kaggle Competition: https://www.kaggle.com/competitions/gan-getting-started\n",
    "\n",
    "1. Kaggle Tutorial: Amy Jang Notebook: https://www.kaggle.com/code/amyjang/monet-cyclegan-tutorial/notebook\n",
    "\n",
    "1. Public Github Project: CycleGAN\n",
    "An implementation of CycleGan for learning an image-to-image translation without input-output pairs using Keras.\n",
    "https://github.com/EtokonE/CycleGAN-keras#cyclegan\n",
    "\n",
    "1. Public Kaggle Notebook by SARAVANA KUMAR: https://www.kaggle.com/code/victorsullivan/i-m-something-of-a-painter-myself/notebook\n",
    "\n",
    "1. EBook: Generative Adversarial Networks with Python by Jason Brownlee -- https://machinelearningmastery.com/generative_adversarial_networks/\n",
    "\n",
    "1. Keras Cyclegan website https://keras.io/examples/generative/cyclegan/\n",
    "\n",
    "1. Public Kaggle Notebook DiffAugment is all you need https://www.kaggle.com/code/unfriendlyai/diffaugment-is-all-you-need/notebook\n",
    "\n"
   ]
  },
  {
   "cell_type": "markdown",
   "id": "c1ed3aa9",
   "metadata": {},
   "source": []
  }
 ],
 "metadata": {
  "kernelspec": {
   "display_name": "Python 3 (ipykernel)",
   "language": "python",
   "name": "python3"
  },
  "language_info": {
   "codemirror_mode": {
    "name": "ipython",
    "version": 3
   },
   "file_extension": ".py",
   "mimetype": "text/x-python",
   "name": "python",
   "nbconvert_exporter": "python",
   "pygments_lexer": "ipython3",
   "version": "3.9.12"
  }
 },
 "nbformat": 4,
 "nbformat_minor": 5
}
